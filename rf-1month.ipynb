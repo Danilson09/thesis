{
 "cells": [
  {
   "cell_type": "code",
   "execution_count": 15,
   "metadata": {},
   "outputs": [
    {
     "name": "stdout",
     "output_type": "stream",
     "text": [
      "Accuracy: 0.7125506072874493\n",
      "              precision    recall  f1-score   support\n",
      "\n",
      "           0       0.62      0.75      0.68       100\n",
      "           1       0.80      0.69      0.74       147\n",
      "\n",
      "    accuracy                           0.71       247\n",
      "   macro avg       0.71      0.72      0.71       247\n",
      "weighted avg       0.73      0.71      0.72       247\n",
      "\n"
     ]
    }
   ],
   "source": [
    "from sklearn.decomposition import PCA\n",
    "from sklearn.discriminant_analysis import StandardScaler\n",
    "import pandas as pd\n",
    "from sklearn.preprocessing import StandardScaler\n",
    "from sklearn.model_selection import train_test_split\n",
    "from sklearn.metrics import accuracy_score, classification_report\n",
    "import ta\n",
    "from sklearn.ensemble import AdaBoostClassifier, RandomForestClassifier\n",
    "\n",
    "\n",
    "file_path = 'EA_stock_data.csv'\n",
    "# Assuming ea_df is your DataFrame loaded with stock data including 'Open', 'High', 'Low', 'Close', 'Volume'\n",
    "ea_df = pd.read_csv(file_path)\n",
    "# Calculate Moving Average\n",
    "ea_df['SMA_10'] = ea_df['Close'].rolling(window=5).mean()\n",
    "\n",
    "# Calculate MACD\n",
    "ea_df['MACD'] = ta.trend.MACD(ea_df['Close']).macd()\n",
    "\n",
    "# Calculate ADX\n",
    "ea_df['ADX'] = ta.trend.ADXIndicator(ea_df['High'], ea_df['Low'], ea_df['Close'], window=20).adx()\n",
    "ea_df['Smoothed_Close'] = ea_df['Close'].ewm(alpha=0.1).mean()\n",
    "# Drop any rows with NaN values that were introduced by the indicator calculations\n",
    "ea_df.dropna(inplace=True)\n",
    "\n",
    "# Define the target variable: 1 if the price goes up next week, 0 otherwise\n",
    "ea_df['Target'] = (ea_df['Adj Close'].shift(-30) > ea_df['Adj Close']).astype(int)\n",
    "ea_df['Target'] = ea_df['Target'].astype('category')\n",
    "\n",
    "# Update features list to include the new technical indicators\n",
    "features = ['Open', 'Low', 'Close', 'Volume','SMA_10', 'MACD','ADX']\n",
    "X = ea_df[features]\n",
    "\n",
    "# Standardize the features\n",
    "\n",
    "y = ea_df['Target'].values\n",
    "scaler = StandardScaler()\n",
    "X_scaled = scaler.fit_transform(X)\n",
    "X_train, X_test, y_train, y_test = train_test_split(X_scaled, y, test_size=0.2, shuffle=False)\n",
    "\n",
    "# Initialize and train the SVM model\n",
    "rf_classifier = RandomForestClassifier(n_estimators=476, random_state=42,max_depth= 20) \n",
    "rf_classifier.fit(X_train, y_train)\n",
    "\n",
    "# Make predictions and evaluate the model\n",
    "predictions = rf_classifier.predict(X_test)\n",
    "\n",
    "# Evaluate the model\n",
    "print(\"Accuracy:\", accuracy_score(y_test, predictions))\n",
    "print(classification_report(y_test, predictions, zero_division=0))"
   ]
  }
 ],
 "metadata": {
  "kernelspec": {
   "display_name": "aci",
   "language": "python",
   "name": "python3"
  },
  "language_info": {
   "codemirror_mode": {
    "name": "ipython",
    "version": 3
   },
   "file_extension": ".py",
   "mimetype": "text/x-python",
   "name": "python",
   "nbconvert_exporter": "python",
   "pygments_lexer": "ipython3",
   "version": "3.10.4"
  }
 },
 "nbformat": 4,
 "nbformat_minor": 2
}
